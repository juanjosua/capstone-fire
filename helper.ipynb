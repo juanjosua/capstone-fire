{
 "cells": [
  {
   "cell_type": "markdown",
   "metadata": {},
   "source": [
    "# Extract Summary\n",
    "\n",
    "## Import Library & Read Data"
   ]
  },
  {
   "cell_type": "code",
   "execution_count": 1,
   "metadata": {},
   "outputs": [],
   "source": [
    "import pandas as pd\n",
    "import matplotlib.pyplot as plt\n",
    "\n",
    "from datetime import date"
   ]
  },
  {
   "cell_type": "code",
   "execution_count": 2,
   "metadata": {},
   "outputs": [],
   "source": [
    "file_path = \"./data_input/data.csv\"\n",
    "id=['936','1178']\n",
    "\n",
    "fb = pd.read_csv(file_path)\n",
    "campaigns = fb[fb['campaign_id'].isin(id)]\n",
    "campaigns = campaigns[campaigns.spent > 0]"
   ]
  },
  {
   "cell_type": "code",
   "execution_count": 3,
   "metadata": {},
   "outputs": [
    {
     "data": {
      "text/html": [
       "<div>\n",
       "<style scoped>\n",
       "    .dataframe tbody tr th:only-of-type {\n",
       "        vertical-align: middle;\n",
       "    }\n",
       "\n",
       "    .dataframe tbody tr th {\n",
       "        vertical-align: top;\n",
       "    }\n",
       "\n",
       "    .dataframe thead th {\n",
       "        text-align: right;\n",
       "    }\n",
       "</style>\n",
       "<table border=\"1\" class=\"dataframe\">\n",
       "  <thead>\n",
       "    <tr style=\"text-align: right;\">\n",
       "      <th></th>\n",
       "      <th>ad_id</th>\n",
       "      <th>reporting_start</th>\n",
       "      <th>reporting_end</th>\n",
       "      <th>campaign_id</th>\n",
       "      <th>fb_campaign_id</th>\n",
       "      <th>age</th>\n",
       "      <th>gender</th>\n",
       "      <th>interest1</th>\n",
       "      <th>interest2</th>\n",
       "      <th>interest3</th>\n",
       "      <th>impressions</th>\n",
       "      <th>clicks</th>\n",
       "      <th>spent</th>\n",
       "      <th>total_conversion</th>\n",
       "      <th>approved_conversion</th>\n",
       "    </tr>\n",
       "  </thead>\n",
       "  <tbody>\n",
       "    <tr>\n",
       "      <th>55</th>\n",
       "      <td>734210</td>\n",
       "      <td>25/08/2017</td>\n",
       "      <td>25/08/2017</td>\n",
       "      <td>936</td>\n",
       "      <td>108654</td>\n",
       "      <td>30-34</td>\n",
       "      <td>M</td>\n",
       "      <td>10</td>\n",
       "      <td>16</td>\n",
       "      <td>13</td>\n",
       "      <td>13329.0</td>\n",
       "      <td>4</td>\n",
       "      <td>5.63</td>\n",
       "      <td>1.0</td>\n",
       "      <td>1.0</td>\n",
       "    </tr>\n",
       "    <tr>\n",
       "      <th>56</th>\n",
       "      <td>734215</td>\n",
       "      <td>26/08/2017</td>\n",
       "      <td>26/08/2017</td>\n",
       "      <td>936</td>\n",
       "      <td>108655</td>\n",
       "      <td>30-34</td>\n",
       "      <td>M</td>\n",
       "      <td>15</td>\n",
       "      <td>19</td>\n",
       "      <td>17</td>\n",
       "      <td>13659.0</td>\n",
       "      <td>3</td>\n",
       "      <td>3.84</td>\n",
       "      <td>1.0</td>\n",
       "      <td>0.0</td>\n",
       "    </tr>\n",
       "    <tr>\n",
       "      <th>60</th>\n",
       "      <td>734290</td>\n",
       "      <td>26/08/2017</td>\n",
       "      <td>26/08/2017</td>\n",
       "      <td>936</td>\n",
       "      <td>108668</td>\n",
       "      <td>30-34</td>\n",
       "      <td>M</td>\n",
       "      <td>29</td>\n",
       "      <td>32</td>\n",
       "      <td>35</td>\n",
       "      <td>5374.0</td>\n",
       "      <td>1</td>\n",
       "      <td>1.04</td>\n",
       "      <td>4.0</td>\n",
       "      <td>0.0</td>\n",
       "    </tr>\n",
       "    <tr>\n",
       "      <th>63</th>\n",
       "      <td>734352</td>\n",
       "      <td>27/08/2017</td>\n",
       "      <td>27/08/2017</td>\n",
       "      <td>936</td>\n",
       "      <td>108678</td>\n",
       "      <td>35-39</td>\n",
       "      <td>M</td>\n",
       "      <td>10</td>\n",
       "      <td>11</td>\n",
       "      <td>16</td>\n",
       "      <td>4423.0</td>\n",
       "      <td>1</td>\n",
       "      <td>1.46</td>\n",
       "      <td>1.0</td>\n",
       "      <td>1.0</td>\n",
       "    </tr>\n",
       "    <tr>\n",
       "      <th>64</th>\n",
       "      <td>734361</td>\n",
       "      <td>29/08/2017</td>\n",
       "      <td>29/08/2017</td>\n",
       "      <td>936</td>\n",
       "      <td>108680</td>\n",
       "      <td>35-39</td>\n",
       "      <td>M</td>\n",
       "      <td>16</td>\n",
       "      <td>19</td>\n",
       "      <td>19</td>\n",
       "      <td>12382.0</td>\n",
       "      <td>2</td>\n",
       "      <td>2.84</td>\n",
       "      <td>1.0</td>\n",
       "      <td>1.0</td>\n",
       "    </tr>\n",
       "  </tbody>\n",
       "</table>\n",
       "</div>"
      ],
      "text/plain": [
       "     ad_id reporting_start reporting_end campaign_id fb_campaign_id    age  \\\n",
       "55  734210      25/08/2017    25/08/2017         936         108654  30-34   \n",
       "56  734215      26/08/2017    26/08/2017         936         108655  30-34   \n",
       "60  734290      26/08/2017    26/08/2017         936         108668  30-34   \n",
       "63  734352      27/08/2017    27/08/2017         936         108678  35-39   \n",
       "64  734361      29/08/2017    29/08/2017         936         108680  35-39   \n",
       "\n",
       "   gender  interest1  interest2  interest3  impressions  clicks  spent  \\\n",
       "55      M         10         16         13      13329.0       4   5.63   \n",
       "56      M         15         19         17      13659.0       3   3.84   \n",
       "60      M         29         32         35       5374.0       1   1.04   \n",
       "63      M         10         11         16       4423.0       1   1.46   \n",
       "64      M         16         19         19      12382.0       2   2.84   \n",
       "\n",
       "    total_conversion  approved_conversion  \n",
       "55               1.0                  1.0  \n",
       "56               1.0                  0.0  \n",
       "60               4.0                  0.0  \n",
       "63               1.0                  1.0  \n",
       "64               1.0                  1.0  "
      ]
     },
     "execution_count": 3,
     "metadata": {},
     "output_type": "execute_result"
    }
   ],
   "source": [
    "campaigns.head()"
   ]
  },
  {
   "cell_type": "markdown",
   "metadata": {},
   "source": [
    "## Completing `extract_summary` module"
   ]
  },
  {
   "cell_type": "markdown",
   "metadata": {},
   "source": [
    "Use the following cell to help you fill in the `extract_summary` module on `send_email.py`.\n",
    "\n",
    "In this section, you are required to extract 6 informations:\n",
    "\n",
    "- `start_date`: the earliest reporting date for both campaign\n",
    "- `end_date`: the latest reporting date for both campaign\n",
    "- `total_spent`: the total marketing cost spent on both campaign\n",
    "- `total_conversion`: number of conversions on both campaign"
   ]
  },
  {
   "cell_type": "code",
   "execution_count": 4,
   "metadata": {},
   "outputs": [],
   "source": [
    "# Make sure to passed in appropriate preprocessing before extracting the start and end date\n",
    "campaigns['reporting_start'] = pd.to_datetime(campaigns['reporting_start'], dayfirst=True)\n",
    "\n",
    "start_date = campaigns['reporting_start'].min().strftime(format=\"%d %b %Y\")\n",
    "end_date = campaigns['reporting_start'].max().strftime(format=\"%d %b %Y\")\n",
    "\n",
    "total_spent = int(campaigns['spent'].sum())\n",
    "total_conversion = int(campaigns['total_conversion'].sum())"
   ]
  },
  {
   "cell_type": "markdown",
   "metadata": {},
   "source": [
    "- `cpc`: cost-per-click (obtained by dividing the total cost with total conversion for each campaign; we will have two cpc values since we have two campaigns--campaign 936 and 1178) "
   ]
  },
  {
   "cell_type": "code",
   "execution_count": 5,
   "metadata": {},
   "outputs": [
    {
     "data": {
      "text/plain": [
       "{'936': 8.13, '1178': 15.91}"
      ]
     },
     "execution_count": 5,
     "metadata": {},
     "output_type": "execute_result"
    }
   ],
   "source": [
    "# Create a cost per conversion dictionary per campaign\n",
    "# Cost per conversion is spent divided by total conversion\n",
    "\n",
    "cpc = campaigns.groupby(['campaign_id'])[['spent', 'total_conversion']].sum()\n",
    "cpc['CPC'] = cpc['spent']/cpc['total_conversion']\n",
    "\n",
    "cpc_each = dict()\n",
    "for each in id:\n",
    "    cpc_each[each] = round(float(cpc[cpc.index == each]['CPC']), 2)\n",
    "\n",
    "cpc_each"
   ]
  },
  {
   "cell_type": "markdown",
   "metadata": {},
   "source": [
    "Once you're done, go to the `extract_summary` module on `send_email.py`, **fill up the skeleton with the value you used in previous cells**, and **save the changes**.\n",
    "\n",
    "If you have fill up the skeleton correctly, try to run below cell, it will return a dictionary as such:\n"
   ]
  },
  {
   "cell_type": "code",
   "execution_count": 6,
   "metadata": {},
   "outputs": [
    {
     "data": {
      "text/plain": [
       "{'start_date': '18 Aug 2017',\n",
       " 'end_date': '30 Aug 2017',\n",
       " 'total_spent': 19470,\n",
       " 'total_conversion': 1398,\n",
       " 'cpc': {'936': 8.13, '1178': 15.91}}"
      ]
     },
     "execution_count": 6,
     "metadata": {},
     "output_type": "execute_result"
    }
   ],
   "source": [
    "from send_email import extract_summary\n",
    "\n",
    "extract_summary()"
   ]
  },
  {
   "cell_type": "markdown",
   "metadata": {},
   "source": [
    "# Create Plot\n",
    "## Import Data\n",
    "\n",
    "Read the dataset and filter the campaign_id to only `936` and `1178`, it is listed as an adjustable parameter of `id`. We are going to filter out all the rows that contain variable spent equals to 0, this will eliminate all rows when the ads is not actually running:"
   ]
  },
  {
   "cell_type": "code",
   "execution_count": 7,
   "metadata": {},
   "outputs": [
    {
     "data": {
      "text/html": [
       "<div>\n",
       "<style scoped>\n",
       "    .dataframe tbody tr th:only-of-type {\n",
       "        vertical-align: middle;\n",
       "    }\n",
       "\n",
       "    .dataframe tbody tr th {\n",
       "        vertical-align: top;\n",
       "    }\n",
       "\n",
       "    .dataframe thead th {\n",
       "        text-align: right;\n",
       "    }\n",
       "</style>\n",
       "<table border=\"1\" class=\"dataframe\">\n",
       "  <thead>\n",
       "    <tr style=\"text-align: right;\">\n",
       "      <th></th>\n",
       "      <th>ad_id</th>\n",
       "      <th>reporting_start</th>\n",
       "      <th>reporting_end</th>\n",
       "      <th>campaign_id</th>\n",
       "      <th>fb_campaign_id</th>\n",
       "      <th>age</th>\n",
       "      <th>gender</th>\n",
       "      <th>interest1</th>\n",
       "      <th>interest2</th>\n",
       "      <th>interest3</th>\n",
       "      <th>impressions</th>\n",
       "      <th>clicks</th>\n",
       "      <th>spent</th>\n",
       "      <th>total_conversion</th>\n",
       "      <th>approved_conversion</th>\n",
       "    </tr>\n",
       "  </thead>\n",
       "  <tbody>\n",
       "    <tr>\n",
       "      <th>55</th>\n",
       "      <td>734210</td>\n",
       "      <td>2017-08-25</td>\n",
       "      <td>2017-08-25</td>\n",
       "      <td>936</td>\n",
       "      <td>108654</td>\n",
       "      <td>30-34</td>\n",
       "      <td>M</td>\n",
       "      <td>10</td>\n",
       "      <td>16</td>\n",
       "      <td>13</td>\n",
       "      <td>13329.0</td>\n",
       "      <td>4</td>\n",
       "      <td>5.63</td>\n",
       "      <td>1.0</td>\n",
       "      <td>1.0</td>\n",
       "    </tr>\n",
       "    <tr>\n",
       "      <th>56</th>\n",
       "      <td>734215</td>\n",
       "      <td>2017-08-26</td>\n",
       "      <td>2017-08-26</td>\n",
       "      <td>936</td>\n",
       "      <td>108655</td>\n",
       "      <td>30-34</td>\n",
       "      <td>M</td>\n",
       "      <td>15</td>\n",
       "      <td>19</td>\n",
       "      <td>17</td>\n",
       "      <td>13659.0</td>\n",
       "      <td>3</td>\n",
       "      <td>3.84</td>\n",
       "      <td>1.0</td>\n",
       "      <td>0.0</td>\n",
       "    </tr>\n",
       "    <tr>\n",
       "      <th>60</th>\n",
       "      <td>734290</td>\n",
       "      <td>2017-08-26</td>\n",
       "      <td>2017-08-26</td>\n",
       "      <td>936</td>\n",
       "      <td>108668</td>\n",
       "      <td>30-34</td>\n",
       "      <td>M</td>\n",
       "      <td>29</td>\n",
       "      <td>32</td>\n",
       "      <td>35</td>\n",
       "      <td>5374.0</td>\n",
       "      <td>1</td>\n",
       "      <td>1.04</td>\n",
       "      <td>4.0</td>\n",
       "      <td>0.0</td>\n",
       "    </tr>\n",
       "    <tr>\n",
       "      <th>63</th>\n",
       "      <td>734352</td>\n",
       "      <td>2017-08-27</td>\n",
       "      <td>2017-08-27</td>\n",
       "      <td>936</td>\n",
       "      <td>108678</td>\n",
       "      <td>35-39</td>\n",
       "      <td>M</td>\n",
       "      <td>10</td>\n",
       "      <td>11</td>\n",
       "      <td>16</td>\n",
       "      <td>4423.0</td>\n",
       "      <td>1</td>\n",
       "      <td>1.46</td>\n",
       "      <td>1.0</td>\n",
       "      <td>1.0</td>\n",
       "    </tr>\n",
       "    <tr>\n",
       "      <th>64</th>\n",
       "      <td>734361</td>\n",
       "      <td>2017-08-29</td>\n",
       "      <td>2017-08-29</td>\n",
       "      <td>936</td>\n",
       "      <td>108680</td>\n",
       "      <td>35-39</td>\n",
       "      <td>M</td>\n",
       "      <td>16</td>\n",
       "      <td>19</td>\n",
       "      <td>19</td>\n",
       "      <td>12382.0</td>\n",
       "      <td>2</td>\n",
       "      <td>2.84</td>\n",
       "      <td>1.0</td>\n",
       "      <td>1.0</td>\n",
       "    </tr>\n",
       "  </tbody>\n",
       "</table>\n",
       "</div>"
      ],
      "text/plain": [
       "     ad_id reporting_start reporting_end campaign_id fb_campaign_id    age  \\\n",
       "55  734210      2017-08-25    2017-08-25         936         108654  30-34   \n",
       "56  734215      2017-08-26    2017-08-26         936         108655  30-34   \n",
       "60  734290      2017-08-26    2017-08-26         936         108668  30-34   \n",
       "63  734352      2017-08-27    2017-08-27         936         108678  35-39   \n",
       "64  734361      2017-08-29    2017-08-29         936         108680  35-39   \n",
       "\n",
       "   gender  interest1  interest2  interest3  impressions  clicks  spent  \\\n",
       "55      M         10         16         13      13329.0       4   5.63   \n",
       "56      M         15         19         17      13659.0       3   3.84   \n",
       "60      M         29         32         35       5374.0       1   1.04   \n",
       "63      M         10         11         16       4423.0       1   1.46   \n",
       "64      M         16         19         19      12382.0       2   2.84   \n",
       "\n",
       "    total_conversion  approved_conversion  \n",
       "55               1.0                  1.0  \n",
       "56               1.0                  0.0  \n",
       "60               4.0                  0.0  \n",
       "63               1.0                  1.0  \n",
       "64               1.0                  1.0  "
      ]
     },
     "execution_count": 7,
     "metadata": {},
     "output_type": "execute_result"
    }
   ],
   "source": [
    "fb = pd.read_csv(file_path, parse_dates=[1,2])\n",
    "campaigns = fb[fb['campaign_id'].isin(id)]\n",
    "campaigns = campaigns[campaigns.spent > 0] \n",
    "\n",
    "campaigns.head()"
   ]
  },
  {
   "cell_type": "markdown",
   "metadata": {},
   "source": [
    "## Completing `create_plot` module\n",
    "\n",
    "Complete the following sections to help you fill in the `create_plot` module on `send_email.py`.\n",
    "\n",
    "### Aggregate total conversion per age\n",
    "\n",
    "You are required to create two bar plots which shows the total conversion of each campaign by the audience's age group. \n",
    "\n",
    "Create a group by aggregation of each campaign, date, and age group and calculate the total conversion of each group!"
   ]
  },
  {
   "cell_type": "code",
   "execution_count": 8,
   "metadata": {},
   "outputs": [
    {
     "data": {
      "text/html": [
       "<div>\n",
       "<style scoped>\n",
       "    .dataframe tbody tr th:only-of-type {\n",
       "        vertical-align: middle;\n",
       "    }\n",
       "\n",
       "    .dataframe tbody tr th {\n",
       "        vertical-align: top;\n",
       "    }\n",
       "\n",
       "    .dataframe thead th {\n",
       "        text-align: right;\n",
       "    }\n",
       "</style>\n",
       "<table border=\"1\" class=\"dataframe\">\n",
       "  <thead>\n",
       "    <tr style=\"text-align: right;\">\n",
       "      <th></th>\n",
       "      <th>campaign_id</th>\n",
       "      <th>age</th>\n",
       "      <th>reporting_start</th>\n",
       "      <th>total_conversion</th>\n",
       "    </tr>\n",
       "  </thead>\n",
       "  <tbody>\n",
       "    <tr>\n",
       "      <th>0</th>\n",
       "      <td>1178</td>\n",
       "      <td>30-34</td>\n",
       "      <td>2017-08-19</td>\n",
       "      <td>33.0</td>\n",
       "    </tr>\n",
       "    <tr>\n",
       "      <th>1</th>\n",
       "      <td>1178</td>\n",
       "      <td>30-34</td>\n",
       "      <td>2017-08-20</td>\n",
       "      <td>38.0</td>\n",
       "    </tr>\n",
       "    <tr>\n",
       "      <th>2</th>\n",
       "      <td>1178</td>\n",
       "      <td>30-34</td>\n",
       "      <td>2017-08-21</td>\n",
       "      <td>24.0</td>\n",
       "    </tr>\n",
       "    <tr>\n",
       "      <th>3</th>\n",
       "      <td>1178</td>\n",
       "      <td>30-34</td>\n",
       "      <td>2017-08-22</td>\n",
       "      <td>56.0</td>\n",
       "    </tr>\n",
       "    <tr>\n",
       "      <th>4</th>\n",
       "      <td>1178</td>\n",
       "      <td>30-34</td>\n",
       "      <td>2017-08-23</td>\n",
       "      <td>135.0</td>\n",
       "    </tr>\n",
       "  </tbody>\n",
       "</table>\n",
       "</div>"
      ],
      "text/plain": [
       "  campaign_id    age reporting_start  total_conversion\n",
       "0        1178  30-34      2017-08-19              33.0\n",
       "1        1178  30-34      2017-08-20              38.0\n",
       "2        1178  30-34      2017-08-21              24.0\n",
       "3        1178  30-34      2017-08-22              56.0\n",
       "4        1178  30-34      2017-08-23             135.0"
      ]
     },
     "execution_count": 8,
     "metadata": {},
     "output_type": "execute_result"
    }
   ],
   "source": [
    "grouped = campaigns.groupby(by=['campaign_id', 'age', 'reporting_start'], as_index=False)['total_conversion'].sum()\n",
    "\n",
    "grouped.head()"
   ]
  },
  {
   "cell_type": "markdown",
   "metadata": {},
   "source": [
    "### Create the plot\n",
    "\n",
    "Next we'll prepare a figure object to store the plot as one image. Once we have that, we'll iterate through all the campaign, and create a barplot for each campaign using a subplot() method.\n",
    "\n",
    "```\n",
    "fig = plt.figure(1, figsize=(15,6))\n",
    "\n",
    "# Iterate to create 1 plot campaign at a time\n",
    "    for i, campaign in enumerate(grouped.campaign_id.unique()):\n",
    "    plt.subplot(1, len(id), i+1)\n",
    "    ...\n",
    "```\n",
    "\n",
    "Since we'd like create the plot for each campaign, the next line specified on the loop is basically creating a simple bar plot using pandas DataFrame:\n",
    "\n",
    "```\n",
    "df = grouped[grouped[___] == campaign].loc[:,['age', 'reporting_start', 'total_conversion']]\n",
    "df['reporting_start'] = df['reporting_start'].dt.date\n",
    "pivot = df.pivot(index='___', columns='___', values='___').fillna(0)\n",
    "pivot.plot.bar(ax=plt.gca())\n",
    "```\n",
    "The pivot DataFrame for each campaign you're trying to create will have the following structure:\n",
    "\n",
    "![](assets/pivot.PNG)\n",
    "\n"
   ]
  },
  {
   "cell_type": "markdown",
   "metadata": {},
   "source": [
    "\n",
    "Finally you'll add a bit of plot tidying up before saving it as a PNG file:\n",
    "\n",
    "```\n",
    "fig.suptitle('Campaign Conversion per Age Group', fontsize=20)\n",
    "fig.autofmt_xdate()\n",
    "\n",
    "# Save file to plot folder\n",
    "imagename = 'plot/'+date.today().strftime(format=\"%d %b %Y\")+'.png'\n",
    "fig.savefig(imagename)\n",
    "```\n",
    "See if you have successfully saved a new PNG file under the plot folder named as today's date. See if that work out for you!\n"
   ]
  },
  {
   "cell_type": "code",
   "execution_count": 10,
   "metadata": {},
   "outputs": [
    {
     "data": {
      "image/png": "[encoded data removed]",
      "text/plain": [
       "<Figure size 1080x432 with 2 Axes>"
      ]
     },
     "metadata": {
      "needs_background": "light"
     },
     "output_type": "display_data"
    }
   ],
   "source": [
    "fig = plt.figure(1, figsize=(15,6))\n",
    "\n",
    "## Iterate to create 1 plot campaign at a time\n",
    "for i, campaign in enumerate(grouped.campaign_id.unique()):\n",
    "    plt.subplot(1, len(id), i+1)\n",
    "      \n",
    "    df = grouped[grouped['campaign_id'] == campaign].loc[:,['age', 'reporting_start', 'total_conversion']]\n",
    "    df['reporting_start'] = df['reporting_start'].dt.date\n",
    "    pivot = df.pivot(index='reporting_start', columns='age', values='total_conversion').fillna(0)\n",
    "    pivot.plot.bar(ax=plt.gca())\n",
    "\n",
    "fig.suptitle('Campaign Conversion per Age Group', fontsize=20)\n",
    "fig.autofmt_xdate()\n",
    "\n",
    "# Save file to plot folder\n",
    "imagename = 'plot/'+date.today().strftime(format=\"%d %b %Y\")+'.png'\n",
    "fig.savefig(imagename)\n"
   ]
  },
  {
   "cell_type": "markdown",
   "metadata": {},
   "source": [
    "Once you're done, go to the `create_plot` module on `send_email.py`, **fill up the skeleton with the value you used in previous cells**, and **save the changes**.\n"
   ]
  }
 ],
 "metadata": {
  "kernelspec": {
   "display_name": "capstone-fire",
   "language": "python",
   "name": "capstone-fire"
  },
  "language_info": {
   "codemirror_mode": {
    "name": "ipython",
    "version": 3
   },
   "file_extension": ".py",
   "mimetype": "text/x-python",
   "name": "python",
   "nbconvert_exporter": "python",
   "pygments_lexer": "ipython3",
   "version": "3.8.8"
  }
 },
 "nbformat": 4,
 "nbformat_minor": 2
}
